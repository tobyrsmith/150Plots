{
 "cells": [
  {
   "cell_type": "markdown",
   "metadata": {},
   "source": [
    "## Astro 150 Plots"
   ]
  },
  {
   "cell_type": "code",
   "execution_count": null,
   "metadata": {
    "collapsed": true
   },
   "outputs": [],
   "source": [
    "%matplotlib inline\n",
    "\n",
    "import matplotlib.pyplot as plt\n",
    "import numpy as np\n",
    "from astropy.table import QTable"
   ]
  },
  {
   "cell_type": "code",
   "execution_count": null,
   "metadata": {},
   "outputs": [],
   "source": [
    "def log_10_product(x, pos):\n",
    "    if (x < 1.0):\n",
    "      return '%4.2f' % (x)\n",
    "    else:\n",
    "      return '%i' % (x)"
   ]
  },
  {
   "cell_type": "code",
   "execution_count": null,
   "metadata": {},
   "outputs": [],
   "source": [
    "tfont = {\n",
    "    'family' : 'DejaVu Serif',\n",
    "    'weight' : 'bold',\n",
    "    'size' : 22}\n",
    "\n",
    "plt.rc('font', **tfont)\n",
    "plt.rc(\"axes\", linewidth=3.0)\n",
    "plt.rc('axes', grid=False)\n",
    "\n",
    "formatter = plt.FuncFormatter(log_10_product)"
   ]
  },
  {
   "cell_type": "code",
   "execution_count": null,
   "metadata": {},
   "outputs": [],
   "source": [
    "#plt.style.available"
   ]
  },
  {
   "cell_type": "code",
   "execution_count": null,
   "metadata": {
    "collapsed": true
   },
   "outputs": [],
   "source": [
    "#plt.style.use('fivethirtyeight')"
   ]
  },
  {
   "cell_type": "markdown",
   "metadata": {},
   "source": [
    "### Rotation Rate"
   ]
  },
  {
   "cell_type": "code",
   "execution_count": null,
   "metadata": {
    "collapsed": true
   },
   "outputs": [],
   "source": [
    "PlanetR = QTable.read('PlanetsRotate.csv', format='ascii.csv')"
   ]
  },
  {
   "cell_type": "code",
   "execution_count": null,
   "metadata": {},
   "outputs": [],
   "source": [
    "PlanetR"
   ]
  },
  {
   "cell_type": "code",
   "execution_count": null,
   "metadata": {},
   "outputs": [],
   "source": [
    "fig,ax = plt.subplots(1,1)                    # One window\n",
    "fig.set_size_inches(16,9)                   # (width,height) - letter paper landscape\n",
    "\n",
    "fig.tight_layout()                          # Make better use of space on plot\n",
    "\n",
    "#ax.set_yscale('log')\n",
    "ax.invert_yaxis()\n",
    "ax.set_ylim(34,2)\n",
    "\n",
    "ax.set_xscale('log')\n",
    "ax.set_xlim(0.5,50)\n",
    "\n",
    "#ax.yaxis.set_major_formatter(formatter)\n",
    "ax.xaxis.set_major_formatter(formatter)\n",
    "\n",
    "ax.set_xlabel(\"Distance [AU]\")\n",
    "ax.set_ylabel(\"Rotation Period [hr]\")\n",
    "\n",
    "#ax.text(1.1, 5.2, 'Earth-Moon', color='blue', fontsize=28)\n",
    "#ax.text(1.62, 25.1, 'Mars', color='green', fontsize=28)\n",
    "#ax.text(4.7, 11.1, 'Jup', color='green', fontsize=28)\n",
    "#ax.text(8.5, 12.2, 'Sat', color='green', fontsize=28)\n",
    "#ax.text(17.3, 18.3, 'Urn', color='green', fontsize=28)\n",
    "#ax.text(26.0, 12.7, 'Nep', color='green', fontsize=28)\n",
    "#ax.text(25.8, 31.5, 'Pluto', color='green', fontsize=28)\n",
    "\n",
    "ax.plot(PlanetR['a'], PlanetR['rot_per'],color=\"r\",marker=\"o\",linestyle=\"None\",markersize=18)"
   ]
  },
  {
   "cell_type": "code",
   "execution_count": null,
   "metadata": {
    "collapsed": true
   },
   "outputs": [],
   "source": [
    "fig.savefig('PlanetRot.png', bbox_inches='tight')"
   ]
  },
  {
   "cell_type": "code",
   "execution_count": null,
   "metadata": {
    "collapsed": true
   },
   "outputs": [],
   "source": [
    "AstR = QTable.read('AsteroidRotate.csv', format='ascii.csv')"
   ]
  },
  {
   "cell_type": "code",
   "execution_count": null,
   "metadata": {},
   "outputs": [],
   "source": [
    "AstR[0:3]"
   ]
  },
  {
   "cell_type": "code",
   "execution_count": null,
   "metadata": {},
   "outputs": [],
   "source": [
    "fig,ax = plt.subplots(1,1)                    # One window\n",
    "fig.set_size_inches(16,9)                   # (width,height) - letter paper landscape\n",
    "\n",
    "fig.tight_layout()                          # Make better use of space on plot\n",
    "\n",
    "#ax.set_yscale('log')\n",
    "ax.invert_yaxis()\n",
    "ax.set_ylim(10,0.5)\n",
    "\n",
    "ax.set_xscale('log')\n",
    "ax.set_xlim(0.5,8)\n",
    "\n",
    "#ax.yaxis.set_major_formatter(formatter)\n",
    "ax.xaxis.set_major_formatter(formatter)\n",
    "\n",
    "ax.set_xlabel(\"Distance [AU]\")\n",
    "ax.set_ylabel(\"Rotation Period [hr]\")\n",
    "\n",
    "ax.plot(PlanetR['a'], PlanetR['rot_per'],color=\"r\",marker=\"o\",linestyle=\"None\",markersize=18)\n",
    "\n",
    "ax.plot(AstR['a'], AstR['rot_per'],color=\"b\",marker=\"o\",linestyle=\"None\",markersize=8)"
   ]
  },
  {
   "cell_type": "code",
   "execution_count": null,
   "metadata": {},
   "outputs": [],
   "source": [
    "fig,ax = plt.subplots(1,1)                    # One window\n",
    "fig.set_size_inches(16,9)                   # (width,height) - letter paper landscape\n",
    "\n",
    "fig.tight_layout()                          # Make better use of space on plot\n",
    "\n",
    "ax.set_yscale('log')\n",
    "ax.invert_yaxis()\n",
    "ax.set_ylim(100,0.9)\n",
    "\n",
    "ax.set_xscale('log')\n",
    "ax.set_xlim(0.2,1000)\n",
    "\n",
    "ax.yaxis.set_major_formatter(formatter)\n",
    "ax.xaxis.set_major_formatter(formatter)\n",
    "\n",
    "ax.set_xlabel(\"Diameter [km]\")\n",
    "ax.set_ylabel(\"Rotation Period [hr]\")\n",
    "\n",
    "#ax.plot(PlanetR['diameter'], PlanetR['rot_per'],color=\"r\",marker=\"o\",linestyle=\"None\",markersize=18)\n",
    "\n",
    "ax.plot(AstR['diameter'], AstR['rot_per'],color=\"b\",marker=\"o\",linestyle=\"None\",markersize=8)"
   ]
  },
  {
   "cell_type": "code",
   "execution_count": null,
   "metadata": {
    "collapsed": true
   },
   "outputs": [],
   "source": [
    "fig.savefig('AstRot.png', bbox_inches='tight')"
   ]
  },
  {
   "cell_type": "markdown",
   "metadata": {},
   "source": [
    "### Satellite Inc"
   ]
  },
  {
   "cell_type": "code",
   "execution_count": null,
   "metadata": {},
   "outputs": [],
   "source": [
    "JupInc = np.array([0.050,0.471,0.204,0.205])\n",
    "SatInc = np.array([1.566,0.010,0.168,0.002,0.327,0.3485,7.570])\n",
    "UrnInc = np.array([4.232,0.260,0.205,0.340,0.058])\n",
    "\n",
    "#Io              0.050   5.204267\n",
    "#Europa          0.471   5.204267\n",
    "#Ganymede        0.204   5.204267\n",
    "#Callisto        0.205   5.204267\n",
    "\n",
    "#Mimas           1.566   9.582\n",
    "#Enceladus       0.010   9.582\n",
    "#Tethys          0.168   9.582\n",
    "#Dione           0.002   9.582\n",
    "#Rhea            0.327   9.582\n",
    "#Titan           0.3485  9.582\n",
    "#Iapetus         7.570   9.582\n",
    "\n",
    "#Miranda         4.232   19.229\n",
    "#Ariel           0.260   19.229\n",
    "#Umbriel         0.205   19.229\n",
    "#Titania         0.340   19.229\n",
    "#Oberon          0.058   19.229\n",
    "\n",
    "JupInc_Ave = JupInc.mean()\n",
    "JupInc_Std = JupInc.std()\n",
    "\n",
    "SatInc_Ave = SatInc.mean()\n",
    "SatInc_Std = SatInc.std()\n",
    "\n",
    "UrnInc_Ave = UrnInc.mean()\n",
    "UrnInc_Std = UrnInc.std()\n",
    "\n",
    "JupInc_Ave"
   ]
  },
  {
   "cell_type": "code",
   "execution_count": null,
   "metadata": {},
   "outputs": [],
   "source": [
    "fig,ax = plt.subplots(1,1)                    # One window\n",
    "fig.set_size_inches(16,9)                   # (width,height) - letter paper landscape\n",
    "\n",
    "fig.tight_layout()                          # Make better use of space on plot\n",
    "\n",
    "#ax.set_yscale('log')\n",
    "#ax.invert_yaxis()\n",
    "ax.set_ylim(-4,30)\n",
    "\n",
    "ax.set_xscale('log')\n",
    "ax.set_xlim(0.5,35)\n",
    "\n",
    "#ax.yaxis.set_major_formatter(formatter)\n",
    "ax.xaxis.set_major_formatter(formatter)\n",
    "\n",
    "ax.set_xlabel(\"Distance [AU]\")\n",
    "ax.set_ylabel(\"Orbital Inclination [deg]\")\n",
    "\n",
    "ax.axhline(0,0.01,100,linestyle=\"--\", linewidth=3)\n",
    "\n",
    "ax.errorbar(5.204267, JupInc_Ave, yerr=JupInc_Std, fmt='-', ecolor='k', capthick=4,capsize=10,elinewidth=4)\n",
    "ax.plot(5.204267,JupInc_Ave,color=\"r\",marker=\"o\",linestyle=\"none\",markersize=18)\n",
    "\n",
    "ax.errorbar(9.582, SatInc_Ave, yerr=SatInc_Std, fmt='-', ecolor='k', capthick=4,capsize=10,elinewidth=4)\n",
    "ax.plot(9.582,SatInc_Ave,color=\"r\",marker=\"o\",linestyle=\"none\",markersize=18)\n",
    "\n",
    "ax.errorbar(19.229, UrnInc_Ave, yerr=UrnInc_Std, fmt='-', ecolor='k', capthick=4,capsize=10,elinewidth=4)\n",
    "ax.plot(19.229,UrnInc_Ave,color=\"r\",marker=\"o\",linestyle=\"none\",markersize=18)\n",
    "\n",
    "ax.errorbar(1.0, 23.5, yerr=5.0, fmt='-', ecolor='k', capthick=4,capsize=10,elinewidth=4)\n",
    "ax.plot(1.0,23.5,color=\"r\",marker=\"o\",linestyle=\"none\",markersize=18)"
   ]
  },
  {
   "cell_type": "code",
   "execution_count": null,
   "metadata": {
    "collapsed": true
   },
   "outputs": [],
   "source": [
    "fig.savefig('SatInc.png', bbox_inches='tight')"
   ]
  },
  {
   "cell_type": "markdown",
   "metadata": {
    "collapsed": true
   },
   "source": [
    "### K"
   ]
  },
  {
   "cell_type": "code",
   "execution_count": null,
   "metadata": {
    "collapsed": true
   },
   "outputs": [],
   "source": [
    "KData = QTable.read('K_Planets.csv', format='ascii.csv')"
   ]
  },
  {
   "cell_type": "code",
   "execution_count": null,
   "metadata": {},
   "outputs": [],
   "source": [
    "KData"
   ]
  },
  {
   "cell_type": "code",
   "execution_count": null,
   "metadata": {
    "collapsed": true
   },
   "outputs": [],
   "source": [
    "colormap = np.array(['r', 'g', 'b', 'm', 'b'])"
   ]
  },
  {
   "cell_type": "code",
   "execution_count": null,
   "metadata": {},
   "outputs": [],
   "source": [
    "fig,ax = plt.subplots(1,1)                    # One window\n",
    "fig.set_size_inches(16,9)                   # (width,height) - letter paper landscape\n",
    "\n",
    "fig.tight_layout()                          # Make better use of space on plot\n",
    "\n",
    "#ax.set_yscale('log')\n",
    "#ax.invert_yaxis()\n",
    "ax.set_ylim(0.18,0.42)\n",
    "\n",
    "ax.set_xscale('log')\n",
    "ax.set_xlim(0.3,35)\n",
    "\n",
    "#ax.yaxis.set_major_formatter(formatter)\n",
    "ax.xaxis.set_major_formatter(formatter)\n",
    "\n",
    "ax.set_xlabel(\"Distance [AU]\")\n",
    "ax.set_ylabel(\"Moment-of-Inertia [K]\")\n",
    "\n",
    "ax.axhline(0.4,0.01,100,linestyle=\"--\", linewidth=3)\n",
    "\n",
    "ax.scatter(KData['a'], KData['K'],c = colormap[KData['color']],marker=\"o\",s=200)"
   ]
  },
  {
   "cell_type": "code",
   "execution_count": null,
   "metadata": {
    "collapsed": true
   },
   "outputs": [],
   "source": [
    "fig.savefig('K.png', bbox_inches='tight')"
   ]
  },
  {
   "cell_type": "code",
   "execution_count": null,
   "metadata": {
    "collapsed": true
   },
   "outputs": [],
   "source": []
  }
 ],
 "metadata": {
  "kernelspec": {
   "display_name": "Python 3",
   "language": "python",
   "name": "python3"
  },
  "language_info": {
   "codemirror_mode": {
    "name": "ipython",
    "version": 3
   },
   "file_extension": ".py",
   "mimetype": "text/x-python",
   "name": "python",
   "nbconvert_exporter": "python",
   "pygments_lexer": "ipython3",
   "version": "3.6.1"
  }
 },
 "nbformat": 4,
 "nbformat_minor": 2
}
