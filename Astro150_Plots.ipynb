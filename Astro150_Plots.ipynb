{
 "cells": [
  {
   "cell_type": "markdown",
   "metadata": {},
   "source": [
    "## Astro 150 Plots"
   ]
  },
  {
   "cell_type": "code",
   "execution_count": null,
   "metadata": {
    "collapsed": true
   },
   "outputs": [],
   "source": [
    "%matplotlib inline\n",
    "\n",
    "import matplotlib.pyplot as plt\n",
    "import numpy as np\n",
    "from astropy.table import QTable"
   ]
  },
  {
   "cell_type": "code",
   "execution_count": null,
   "metadata": {
    "collapsed": true
   },
   "outputs": [],
   "source": [
    "def log_10_product(x, pos):\n",
    "    if (x < 1.0):\n",
    "      return '%4.2f' % (x)\n",
    "    else:\n",
    "      return '%i' % (x)"
   ]
  },
  {
   "cell_type": "code",
   "execution_count": null,
   "metadata": {
    "collapsed": true
   },
   "outputs": [],
   "source": [
    "tfont = {\n",
    "    'family' : 'DejaVu Serif',\n",
    "    'weight' : 'bold',\n",
    "    'size' : 22}\n",
    "\n",
    "plt.rc('font', **tfont)\n",
    "plt.rc(\"axes\", linewidth=3.0)\n",
    "plt.rc('axes', grid=False)\n",
    "\n",
    "formatter = plt.FuncFormatter(log_10_product)"
   ]
  },
  {
   "cell_type": "code",
   "execution_count": null,
   "metadata": {
    "collapsed": true
   },
   "outputs": [],
   "source": [
    "#plt.style.available"
   ]
  },
  {
   "cell_type": "code",
   "execution_count": null,
   "metadata": {
    "collapsed": true
   },
   "outputs": [],
   "source": [
    "#plt.style.use('fivethirtyeight')"
   ]
  },
  {
   "cell_type": "markdown",
   "metadata": {},
   "source": [
    "### Rotation Rate"
   ]
  },
  {
   "cell_type": "code",
   "execution_count": null,
   "metadata": {
    "collapsed": true
   },
   "outputs": [],
   "source": [
    "PlanetR = QTable.read('PlanetsRotate.csv', format='ascii.csv')"
   ]
  },
  {
   "cell_type": "code",
   "execution_count": null,
   "metadata": {
    "collapsed": true
   },
   "outputs": [],
   "source": [
    "PlanetR"
   ]
  },
  {
   "cell_type": "code",
   "execution_count": null,
   "metadata": {
    "collapsed": true
   },
   "outputs": [],
   "source": [
    "fig,ax = plt.subplots(1,1)                    # One window\n",
    "fig.set_size_inches(16,9)                   # (width,height) - letter paper landscape\n",
    "\n",
    "fig.tight_layout()                          # Make better use of space on plot\n",
    "\n",
    "#ax.set_yscale('log')\n",
    "ax.invert_yaxis()\n",
    "ax.set_ylim(34,2)\n",
    "\n",
    "ax.set_xscale('log')\n",
    "ax.set_xlim(0.5,50)\n",
    "\n",
    "#ax.yaxis.set_major_formatter(formatter)\n",
    "ax.xaxis.set_major_formatter(formatter)\n",
    "\n",
    "ax.set_xlabel(\"Distance [AU]\")\n",
    "ax.set_ylabel(\"Rotation Period [hr]\")\n",
    "\n",
    "#ax.text(1.1, 5.2, 'Earth-Moon', color='blue', fontsize=28)\n",
    "#ax.text(1.62, 25.1, 'Mars', color='green', fontsize=28)\n",
    "#ax.text(4.7, 11.1, 'Jup', color='green', fontsize=28)\n",
    "#ax.text(8.5, 12.2, 'Sat', color='green', fontsize=28)\n",
    "#ax.text(17.3, 18.3, 'Urn', color='green', fontsize=28)\n",
    "#ax.text(26.0, 12.7, 'Nep', color='green', fontsize=28)\n",
    "#ax.text(25.8, 31.5, 'Pluto', color='green', fontsize=28)\n",
    "\n",
    "ax.plot(PlanetR['a'], PlanetR['rot_per'],color=\"r\",marker=\"o\",linestyle=\"None\",markersize=18)"
   ]
  },
  {
   "cell_type": "code",
   "execution_count": null,
   "metadata": {
    "collapsed": true
   },
   "outputs": [],
   "source": [
    "fig.savefig('PlanetRot.png', bbox_inches='tight')"
   ]
  },
  {
   "cell_type": "code",
   "execution_count": null,
   "metadata": {
    "collapsed": true
   },
   "outputs": [],
   "source": [
    "AstR = QTable.read('AsteroidRotate.csv', format='ascii.csv')"
   ]
  },
  {
   "cell_type": "code",
   "execution_count": null,
   "metadata": {
    "collapsed": true
   },
   "outputs": [],
   "source": [
    "AstR[0:3]"
   ]
  },
  {
   "cell_type": "code",
   "execution_count": null,
   "metadata": {
    "collapsed": true
   },
   "outputs": [],
   "source": [
    "fig,ax = plt.subplots(1,1)                    # One window\n",
    "fig.set_size_inches(16,9)                   # (width,height) - letter paper landscape\n",
    "\n",
    "fig.tight_layout()                          # Make better use of space on plot\n",
    "\n",
    "#ax.set_yscale('log')\n",
    "ax.invert_yaxis()\n",
    "ax.set_ylim(10,0.5)\n",
    "\n",
    "ax.set_xscale('log')\n",
    "ax.set_xlim(0.5,8)\n",
    "\n",
    "#ax.yaxis.set_major_formatter(formatter)\n",
    "ax.xaxis.set_major_formatter(formatter)\n",
    "\n",
    "ax.set_xlabel(\"Distance [AU]\")\n",
    "ax.set_ylabel(\"Rotation Period [hr]\")\n",
    "\n",
    "ax.plot(PlanetR['a'], PlanetR['rot_per'],color=\"r\",marker=\"o\",linestyle=\"None\",markersize=18)\n",
    "\n",
    "ax.plot(AstR['a'], AstR['rot_per'],color=\"b\",marker=\"o\",linestyle=\"None\",markersize=8)"
   ]
  },
  {
   "cell_type": "code",
   "execution_count": null,
   "metadata": {
    "collapsed": true
   },
   "outputs": [],
   "source": [
    "fig,ax = plt.subplots(1,1)                    # One window\n",
    "fig.set_size_inches(16,9)                   # (width,height) - letter paper landscape\n",
    "\n",
    "fig.tight_layout()                          # Make better use of space on plot\n",
    "\n",
    "ax.set_yscale('log')\n",
    "ax.invert_yaxis()\n",
    "ax.set_ylim(100,0.9)\n",
    "\n",
    "ax.set_xscale('log')\n",
    "ax.set_xlim(0.2,1000)\n",
    "\n",
    "ax.yaxis.set_major_formatter(formatter)\n",
    "ax.xaxis.set_major_formatter(formatter)\n",
    "\n",
    "ax.set_xlabel(\"Diameter [km]\")\n",
    "ax.set_ylabel(\"Rotation Period [hr]\")\n",
    "\n",
    "#ax.plot(PlanetR['diameter'], PlanetR['rot_per'],color=\"r\",marker=\"o\",linestyle=\"None\",markersize=18)\n",
    "\n",
    "ax.plot(AstR['diameter'], AstR['rot_per'],color=\"b\",marker=\"o\",linestyle=\"None\",markersize=8)"
   ]
  },
  {
   "cell_type": "code",
   "execution_count": null,
   "metadata": {
    "collapsed": true
   },
   "outputs": [],
   "source": [
    "fig.savefig('AstRot.png', bbox_inches='tight')"
   ]
  },
  {
   "cell_type": "markdown",
   "metadata": {},
   "source": [
    "### Satellite Inc"
   ]
  },
  {
   "cell_type": "code",
   "execution_count": null,
   "metadata": {
    "collapsed": true
   },
   "outputs": [],
   "source": [
    "JupInc = np.array([0.050,0.471,0.204,0.205])\n",
    "SatInc = np.array([1.566,0.010,0.168,0.002,0.327,0.3485,7.570])\n",
    "UrnInc = np.array([4.232,0.260,0.205,0.340,0.058])\n",
    "\n",
    "#Io              0.050   5.204267\n",
    "#Europa          0.471   5.204267\n",
    "#Ganymede        0.204   5.204267\n",
    "#Callisto        0.205   5.204267\n",
    "\n",
    "#Mimas           1.566   9.582\n",
    "#Enceladus       0.010   9.582\n",
    "#Tethys          0.168   9.582\n",
    "#Dione           0.002   9.582\n",
    "#Rhea            0.327   9.582\n",
    "#Titan           0.3485  9.582\n",
    "#Iapetus         7.570   9.582\n",
    "\n",
    "#Miranda         4.232   19.229\n",
    "#Ariel           0.260   19.229\n",
    "#Umbriel         0.205   19.229\n",
    "#Titania         0.340   19.229\n",
    "#Oberon          0.058   19.229\n",
    "\n",
    "JupInc_Ave = JupInc.mean()\n",
    "JupInc_Std = JupInc.std()\n",
    "\n",
    "SatInc_Ave = SatInc.mean()\n",
    "SatInc_Std = SatInc.std()\n",
    "\n",
    "UrnInc_Ave = UrnInc.mean()\n",
    "UrnInc_Std = UrnInc.std()\n",
    "\n",
    "JupInc_Ave"
   ]
  },
  {
   "cell_type": "code",
   "execution_count": null,
   "metadata": {
    "collapsed": true
   },
   "outputs": [],
   "source": [
    "fig,ax = plt.subplots(1,1)                    # One window\n",
    "fig.set_size_inches(16,9)                   # (width,height) - letter paper landscape\n",
    "\n",
    "fig.tight_layout()                          # Make better use of space on plot\n",
    "\n",
    "#ax.set_yscale('log')\n",
    "#ax.invert_yaxis()\n",
    "ax.set_ylim(-4,30)\n",
    "\n",
    "ax.set_xscale('log')\n",
    "ax.set_xlim(0.5,35)\n",
    "\n",
    "#ax.yaxis.set_major_formatter(formatter)\n",
    "ax.xaxis.set_major_formatter(formatter)\n",
    "\n",
    "ax.set_xlabel(\"Distance [AU]\")\n",
    "ax.set_ylabel(\"Orbital Inclination [deg]\")\n",
    "\n",
    "ax.axhline(0,0.01,100,linestyle=\"--\", linewidth=3)\n",
    "\n",
    "ax.errorbar(5.204267, JupInc_Ave, yerr=JupInc_Std, fmt='-', ecolor='k', capthick=4,capsize=10,elinewidth=4)\n",
    "ax.plot(5.204267,JupInc_Ave,color=\"r\",marker=\"o\",linestyle=\"none\",markersize=18)\n",
    "\n",
    "ax.errorbar(9.582, SatInc_Ave, yerr=SatInc_Std, fmt='-', ecolor='k', capthick=4,capsize=10,elinewidth=4)\n",
    "ax.plot(9.582,SatInc_Ave,color=\"r\",marker=\"o\",linestyle=\"none\",markersize=18)\n",
    "\n",
    "ax.errorbar(19.229, UrnInc_Ave, yerr=UrnInc_Std, fmt='-', ecolor='k', capthick=4,capsize=10,elinewidth=4)\n",
    "ax.plot(19.229,UrnInc_Ave,color=\"r\",marker=\"o\",linestyle=\"none\",markersize=18)\n",
    "\n",
    "ax.errorbar(1.0, 23.5, yerr=5.0, fmt='-', ecolor='k', capthick=4,capsize=10,elinewidth=4)\n",
    "ax.plot(1.0,23.5,color=\"r\",marker=\"o\",linestyle=\"none\",markersize=18)"
   ]
  },
  {
   "cell_type": "code",
   "execution_count": null,
   "metadata": {
    "collapsed": true
   },
   "outputs": [],
   "source": [
    "fig.savefig('SatInc.png', bbox_inches='tight')"
   ]
  },
  {
   "cell_type": "markdown",
   "metadata": {
    "collapsed": true
   },
   "source": [
    "### K"
   ]
  },
  {
   "cell_type": "code",
   "execution_count": null,
   "metadata": {
    "collapsed": true
   },
   "outputs": [],
   "source": [
    "KData = QTable.read('K_Planets.csv', format='ascii.csv')"
   ]
  },
  {
   "cell_type": "code",
   "execution_count": null,
   "metadata": {
    "collapsed": true
   },
   "outputs": [],
   "source": [
    "KData"
   ]
  },
  {
   "cell_type": "code",
   "execution_count": null,
   "metadata": {
    "collapsed": true
   },
   "outputs": [],
   "source": [
    "colormap = np.array(['r', 'g', 'b', 'm', 'b'])"
   ]
  },
  {
   "cell_type": "code",
   "execution_count": null,
   "metadata": {
    "collapsed": true
   },
   "outputs": [],
   "source": [
    "fig,ax = plt.subplots(1,1)                    # One window\n",
    "fig.set_size_inches(16,9)                   # (width,height) - letter paper landscape\n",
    "\n",
    "fig.tight_layout()                          # Make better use of space on plot\n",
    "\n",
    "#ax.set_yscale('log')\n",
    "#ax.invert_yaxis()\n",
    "ax.set_ylim(0.18,0.42)\n",
    "\n",
    "ax.set_xscale('log')\n",
    "ax.set_xlim(0.3,35)\n",
    "\n",
    "#ax.yaxis.set_major_formatter(formatter)\n",
    "ax.xaxis.set_major_formatter(formatter)\n",
    "\n",
    "ax.set_xlabel(\"Distance [AU]\")\n",
    "ax.set_ylabel(\"Moment-of-Inertia [K]\")\n",
    "\n",
    "ax.axhline(0.4,0.01,100,linestyle=\"--\", linewidth=3)\n",
    "\n",
    "ax.scatter(KData['a'], KData['K'],c = colormap[KData['color']],marker=\"o\",s=200)"
   ]
  },
  {
   "cell_type": "code",
   "execution_count": null,
   "metadata": {
    "collapsed": true
   },
   "outputs": [],
   "source": [
    "fig.savefig('K.png', bbox_inches='tight')"
   ]
  },
  {
   "cell_type": "markdown",
   "metadata": {
    "collapsed": true
   },
   "source": [
    "## Exoplanets"
   ]
  },
  {
   "cell_type": "code",
   "execution_count": null,
   "metadata": {
    "collapsed": true
   },
   "outputs": [],
   "source": [
    "ExoData = QTable.read('exoplanet_date.csv', format='ascii.csv')"
   ]
  },
  {
   "cell_type": "code",
   "execution_count": null,
   "metadata": {
    "collapsed": true
   },
   "outputs": [],
   "source": [
    "ExoData[0:2]"
   ]
  },
  {
   "cell_type": "code",
   "execution_count": null,
   "metadata": {
    "collapsed": true
   },
   "outputs": [],
   "source": [
    "fig,ax = plt.subplots(1,1)                    # One window\n",
    "fig.set_size_inches(16,9)                   # (width,height) - letter paper landscape\n",
    "\n",
    "fig.tight_layout()                          # Make better use of space on plot\n",
    "\n",
    "#ax.set_yscale('log')\n",
    "#ax.invert_yaxis()\n",
    "#ax.set_ylim(0.18,0.42)\n",
    "\n",
    "#ax.set_xscale('log')\n",
    "#ax.set_xlim(0.3,35)\n",
    "\n",
    "#ax.yaxis.set_major_formatter(formatter)\n",
    "ax.xaxis.set_major_formatter(formatter)\n",
    "\n",
    "mask = np.where(ExoData['R'] > 0.0001)\n",
    "\n",
    "ax.set_xlabel(\"Date\")\n",
    "ax.set_ylabel(\"Radius [Jupiter]\")\n",
    "\n",
    "ax.scatter(ExoData['DATE'][mask], ExoData['R'][mask],marker=\"o\",s=200)"
   ]
  },
  {
   "cell_type": "code",
   "execution_count": null,
   "metadata": {
    "collapsed": true
   },
   "outputs": [],
   "source": [
    "fig,ax = plt.subplots(1,1)                    # One window\n",
    "fig.set_size_inches(16,9)                   # (width,height) - letter paper landscape\n",
    "\n",
    "fig.tight_layout()                          # Make better use of space on plot\n",
    "\n",
    "ax.set_yscale('log')\n",
    "#ax.invert_yaxis()\n",
    "ax.set_ylim(0.8,1000)\n",
    "\n",
    "#ax.set_xscale('log')\n",
    "ax.set_xlim(0.0,2.0)\n",
    "\n",
    "ax.yaxis.set_major_formatter(formatter)\n",
    "#ax.xaxis.set_major_formatter(formatter)\n",
    "\n",
    "mask2009 = np.where((ExoData['DATE'] > 1999) & (ExoData['DATE'] <= 2009))\n",
    "mask2013 = np.where((ExoData['DATE'] > 2009) & (ExoData['DATE'] <= 2013))\n",
    "mask2017 = np.where((ExoData['DATE'] > 2013) & (ExoData['DATE'] <= 2017))\n",
    "\n",
    "\n",
    "ax.set_xlabel(\"Exoplanet Radius [Jupiter]\")\n",
    "ax.set_ylabel(\"Number of Transiting Exoplanets\")\n",
    "\n",
    "ax.text(1.25, 600, 'Discovery Date', color='k', fontsize=28)\n",
    "ax.text(1.30, 400, '1999-2009',      color='ForestGreen', fontsize=28)\n",
    "ax.text(1.30, 280, '2010-2013',      color='FireBrick', fontsize=28)\n",
    "ax.text(1.30, 200, '2014-2017',      color='CornflowerBlue', fontsize=28)\n",
    "\n",
    "BINS = 20\n",
    "\n",
    "ax.hist(ExoData['R'][mask2017], bins=BINS, color=\"CornflowerBlue\")\n",
    "ax.hist(ExoData['R'][mask2013], bins=BINS, color=\"FireBrick\")\n",
    "ax.hist(ExoData['R'][mask2009], bins=BINS, color=\"ForestGreen\")\n",
    "\n",
    "ax.vlines(0.08921,0,2000,colors='k', linestyles='dashed', linewidth=5 );"
   ]
  },
  {
   "cell_type": "code",
   "execution_count": null,
   "metadata": {
    "collapsed": true
   },
   "outputs": [],
   "source": [
    "fig.savefig('SizeDate.png', bbox_inches='tight')"
   ]
  },
  {
   "cell_type": "code",
   "execution_count": null,
   "metadata": {
    "collapsed": true
   },
   "outputs": [],
   "source": [
    "fig,ax = plt.subplots(1,1)                    # One window\n",
    "fig.set_size_inches(16,9)                   # (width,height) - letter paper landscape\n",
    "\n",
    "fig.tight_layout()                          # Make better use of space on plot\n",
    "\n",
    "#ax.set_yscale('log')\n",
    "#ax.invert_yaxis()\n",
    "#ax.set_ylim(0.18,0.42)\n",
    "\n",
    "ax.set_xscale('log')\n",
    "#ax.set_xlim(0.3,35)\n",
    "\n",
    "#ax.yaxis.set_major_formatter(formatter)\n",
    "ax.xaxis.set_major_formatter(formatter)\n",
    "\n",
    "mask = np.where(ExoData['A'] > 0.0001)\n",
    "\n",
    "ax.set_xlabel(\"Average Distance [AU]\")\n",
    "ax.set_ylabel(\"Radius [Jupiter]\")\n",
    "\n",
    "ax.scatter(ExoData['A'][mask], ExoData['R'][mask],marker=\"o\",s=200)"
   ]
  },
  {
   "cell_type": "code",
   "execution_count": null,
   "metadata": {
    "collapsed": true
   },
   "outputs": [],
   "source": [
    "fig,ax = plt.subplots(1,1)                    # One window\n",
    "fig.set_size_inches(16,9)                   # (width,height) - letter paper landscape\n",
    "\n",
    "fig.tight_layout()                          # Make better use of space on plot\n",
    "\n",
    "#ax.set_yscale('log')\n",
    "#ax.invert_yaxis()\n",
    "ax.set_ylim(0,400)\n",
    "\n",
    "#ax.set_xscale('log')\n",
    "ax.set_xlim(0.025,1.7)fig,ax = plt.subplots(1,1)                    # One window\n",
    "fig.set_size_inches(16,9)                   # (width,height) - letter paper landscape\n",
    "\n",
    "fig.tight_layout()                          # Make better use of space on plot\n",
    "\n",
    "#ax.set_yscale('log')\n",
    "#ax.invert_yaxis()\n",
    "ax.set_ylim(0,400)\n",
    "\n",
    "#ax.set_xscale('log')\n",
    "ax.set_xlim(0.025,1.7)\n",
    "\n",
    "#ax.yaxis.set_major_formatter(formatter)\n",
    "#ax.xaxis.set_major_formatter(formatter)\n",
    "\n",
    "mask = np.where(ExoData['A'] > 0.0001)\n",
    "\n",
    "ax.set_xlabel(\"Average Distance [AU]\")\n",
    "ax.set_ylabel(\"Number of Transiting Exoplanets\")\n",
    "\n",
    "ax.vlines(1.0,0,500,colors='g', linestyles='dashed' )\n",
    "ax.vlines(0.72,0,500,colors='g', linestyles='dashed' )\n",
    "ax.vlines(0.39,0,500,colors='g', linestyles='dashed' )\n",
    "ax.vlines(1.52,0,500,colors='g', linestyles='dashed' )\n",
    "ax.vlines(5.2,0,500,colors='g', linestyles='dashed' )\n",
    "\n",
    "ax.hist(ExoData['A'][mask], bins=100);\n",
    "\n",
    "#ax.yaxis.set_major_formatter(formatter)\n",
    "#ax.xaxis.set_major_formatter(formatter)\n",
    "\n",
    "mask = np.where(ExoData['A'] > 0.0001)\n",
    "\n",
    "ax.set_xlabel(\"Average Distance [AU]\")\n",
    "ax.set_ylabel(\"Number of Transiting Exoplanets\")\n",
    "\n",
    "ax.vlines(1.0,0,500,colors='g', linestyles='dashed' )\n",
    "ax.vlines(0.72,0,500,colors='g', linestyles='dashed' )\n",
    "ax.vlines(0.39,0,500,colors='g', linestyles='dashed' )\n",
    "ax.vlines(1.52,0,500,colors='g', linestyles='dashed' )\n",
    "ax.vlines(5.2,0,500,colors='g', linestyles='dashed' )\n",
    "\n",
    "ax.hist(ExoData['A'][mask], bins=100);"
   ]
  },
  {
   "cell_type": "code",
   "execution_count": null,
   "metadata": {
    "collapsed": true
   },
   "outputs": [],
   "source": [
    "fig.savefig('ExoDist.png', bbox_inches='tight')"
   ]
  },
  {
   "cell_type": "code",
   "execution_count": null,
   "metadata": {
    "collapsed": true
   },
   "outputs": [],
   "source": [
    "fig,ax = plt.subplots(1,1)                    # One window\n",
    "fig.set_size_inches(16,9)                   # (width,height) - letter paper landscape\n",
    "\n",
    "fig.tight_layout()                          # Make better use of space on plot\n",
    "\n",
    "#ax.set_yscale('log')\n",
    "#ax.invert_yaxis()\n",
    "ax.set_ylim(0,400)\n",
    "\n",
    "#ax.set_xscale('log')\n",
    "ax.set_xlim(0.025,1.7)\n",
    "\n",
    "#ax.yaxis.set_major_formatter(formatter)\n",
    "#ax.xaxis.set_major_formatter(formatter)\n",
    "\n",
    "mask = np.where(ExoData['R'] > 0.0001)\n",
    "\n",
    "ax.set_xlabel(\"Radius [Jupiter]\")\n",
    "ax.set_ylabel(\"Number of Transiting Exoplanets\")\n",
    "\n",
    "ax.vlines(1.0,0,500,colors='g', linestyles='dashed' )\n",
    "ax.vlines(0.0892140244,0,500,colors='g', linestyles='dashed' )\n",
    "\n",
    "ax.hist(ExoData['R'][mask], bins=100);"
   ]
  },
  {
   "cell_type": "markdown",
   "metadata": {
    "collapsed": true
   },
   "source": [
    "## TNO"
   ]
  },
  {
   "cell_type": "code",
   "execution_count": null,
   "metadata": {},
   "outputs": [],
   "source": [
    "TNOData = QTable.read('TNO_Date.csv', format='ascii.csv')"
   ]
  },
  {
   "cell_type": "code",
   "execution_count": null,
   "metadata": {},
   "outputs": [],
   "source": [
    "TNOData[1:5]"
   ]
  },
  {
   "cell_type": "code",
   "execution_count": null,
   "metadata": {
    "collapsed": true
   },
   "outputs": [],
   "source": [
    "Bins = np.arange(1990,2018,1)"
   ]
  },
  {
   "cell_type": "code",
   "execution_count": null,
   "metadata": {},
   "outputs": [],
   "source": [
    "Bins"
   ]
  },
  {
   "cell_type": "code",
   "execution_count": null,
   "metadata": {
    "collapsed": true
   },
   "outputs": [],
   "source": [
    "Width = (Bins[1:] - Bins[:-1])"
   ]
  },
  {
   "cell_type": "code",
   "execution_count": null,
   "metadata": {
    "collapsed": true
   },
   "outputs": [],
   "source": [
    "year = TNOData['year']"
   ]
  },
  {
   "cell_type": "code",
   "execution_count": null,
   "metadata": {},
   "outputs": [],
   "source": [
    "Hist,BinEdge = np.histogram(year, bins=Bins)\n",
    "\n",
    "CHist = np.cumsum(Hist) + 1\n",
    "\n",
    "for i,j in enumerate(CHist):\n",
    "    print(j, Bins[i])"
   ]
  },
  {
   "cell_type": "code",
   "execution_count": null,
   "metadata": {},
   "outputs": [],
   "source": [
    "fig, ax = plt.subplots(1,1)\n",
    "fig.set_size_inches(16,9)\n",
    "\n",
    "#ax.grid(b=True, which='major')\n",
    "\n",
    "#ax.set_ylim(0,200)\n",
    "ax.set_xlim(1991,2017)\n",
    "\n",
    "ax.spines['top'].set_visible(False)\n",
    "ax.spines['right'].set_visible(False)\n",
    "#ax.xaxis.set_tick_params('minor',width=2,length=0)\n",
    "\n",
    "#ax.get_xaxis().tick_bottom()\n",
    "#ax.get_yaxis().tick_left()\n",
    "\n",
    "ax.set_xlabel('Year')\n",
    "ax.set_ylabel('Cumulative Number of KBOs')\n",
    "\n",
    "ax.bar(Bins[:-1], CHist, width=Width, color='c', edgecolor='k');"
   ]
  },
  {
   "cell_type": "code",
   "execution_count": null,
   "metadata": {
    "collapsed": true
   },
   "outputs": [],
   "source": [
    "fig.savefig('TNODiscovery.png', dpi=200, bbox_inches='tight',pad_inches=0.05)"
   ]
  },
  {
   "cell_type": "code",
   "execution_count": null,
   "metadata": {
    "collapsed": true
   },
   "outputs": [],
   "source": [
    "NepRes = [39.4,47.72,62.52]"
   ]
  },
  {
   "cell_type": "code",
   "execution_count": null,
   "metadata": {},
   "outputs": [],
   "source": [
    "fig,ax = plt.subplots(1,1)                    # One window\n",
    "fig.set_size_inches(16,9)                   # (width,height) - letter paper landscape\n",
    "\n",
    "fig.tight_layout()                          # Make better use of space on plot\n",
    "\n",
    "#ax.set_yscale('log')\n",
    "#ax.invert_yaxis()\n",
    "ax.set_ylim(0,320)\n",
    "\n",
    "#ax.set_xscale('log')\n",
    "ax.set_xlim(30,60)\n",
    "\n",
    "#ax.yaxis.set_major_formatter(formatter)\n",
    "#ax.xaxis.set_major_formatter(formatter)\n",
    "\n",
    "ax.set_xlabel(\"Average Distance [AU]\")\n",
    "ax.set_ylabel(\"Number of TNO's\")\n",
    "\n",
    "ax.vlines(39.4,0,500,colors='g', linestyles='dashed' )\n",
    "ax.vlines(47.72,0,500,colors='g', linestyles='dashed' )\n",
    "ax.vlines(62.52,0,500,colors='g', linestyles='dashed' )\n",
    "#ax.vlines(1.52,0,500,colors='g', linestyles='dashed' )\n",
    "#ax.vlines(5.2,0,500,colors='g', linestyles='dashed' )\n",
    "\n",
    "mask = np.where(TNOData['a'] < 100)\n",
    "\n",
    "ax.hist(TNOData['a'][mask], bins=100, color='c', edgecolor='k');"
   ]
  },
  {
   "cell_type": "code",
   "execution_count": null,
   "metadata": {
    "collapsed": true
   },
   "outputs": [],
   "source": [
    "fig.savefig('TNO_A.png', dpi=200, bbox_inches='tight',pad_inches=0.05)"
   ]
  },
  {
   "cell_type": "code",
   "execution_count": null,
   "metadata": {
    "collapsed": true
   },
   "outputs": [],
   "source": []
  }
 ],
 "metadata": {
  "kernelspec": {
   "display_name": "Python 3",
   "language": "python",
   "name": "python3"
  },
  "language_info": {
   "codemirror_mode": {
    "name": "ipython",
    "version": 3
   },
   "file_extension": ".py",
   "mimetype": "text/x-python",
   "name": "python",
   "nbconvert_exporter": "python",
   "pygments_lexer": "ipython3",
   "version": "3.6.1"
  }
 },
 "nbformat": 4,
 "nbformat_minor": 2
}
